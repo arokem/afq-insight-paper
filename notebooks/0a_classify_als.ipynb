{
 "cells": [
  {
   "cell_type": "code",
   "execution_count": 1,
   "metadata": {
    "scrolled": true
   },
   "outputs": [
    {
     "name": "stderr",
     "output_type": "stream",
     "text": [
      "/opt/tljh/user/lib/python3.7/site-packages/distributed/node.py:155: UserWarning: Port 8787 is already in use.\n",
      "Perhaps you already have a cluster running?\n",
      "Hosting the HTTP server on port 36899 instead\n",
      "  http_address[\"port\"], self.http_server.port\n",
      "distributed.scheduler - INFO - Clear task state\n",
      "distributed.scheduler - INFO -   Scheduler at:     tcp://127.0.0.1:41805\n",
      "distributed.scheduler - INFO -   dashboard at:           127.0.0.1:36899\n",
      "distributed.nanny - INFO -         Start Nanny at: 'tcp://127.0.0.1:45751'\n",
      "distributed.nanny - INFO -         Start Nanny at: 'tcp://127.0.0.1:44661'\n",
      "distributed.nanny - INFO -         Start Nanny at: 'tcp://127.0.0.1:38487'\n",
      "distributed.nanny - INFO -         Start Nanny at: 'tcp://127.0.0.1:45361'\n",
      "distributed.nanny - INFO -         Start Nanny at: 'tcp://127.0.0.1:34257'\n",
      "distributed.nanny - INFO -         Start Nanny at: 'tcp://127.0.0.1:42681'\n",
      "distributed.nanny - INFO -         Start Nanny at: 'tcp://127.0.0.1:37779'\n",
      "distributed.nanny - INFO -         Start Nanny at: 'tcp://127.0.0.1:32781'\n",
      "distributed.nanny - INFO -         Start Nanny at: 'tcp://127.0.0.1:35095'\n",
      "distributed.nanny - INFO -         Start Nanny at: 'tcp://127.0.0.1:38495'\n",
      "distributed.nanny - INFO -         Start Nanny at: 'tcp://127.0.0.1:45253'\n",
      "distributed.nanny - INFO -         Start Nanny at: 'tcp://127.0.0.1:40881'\n",
      "distributed.nanny - INFO -         Start Nanny at: 'tcp://127.0.0.1:40143'\n",
      "distributed.nanny - INFO -         Start Nanny at: 'tcp://127.0.0.1:34113'\n",
      "distributed.nanny - INFO -         Start Nanny at: 'tcp://127.0.0.1:45407'\n",
      "distributed.nanny - INFO -         Start Nanny at: 'tcp://127.0.0.1:38431'\n",
      "distributed.nanny - INFO -         Start Nanny at: 'tcp://127.0.0.1:38665'\n",
      "distributed.nanny - INFO -         Start Nanny at: 'tcp://127.0.0.1:35435'\n",
      "distributed.nanny - INFO -         Start Nanny at: 'tcp://127.0.0.1:43463'\n",
      "distributed.nanny - INFO -         Start Nanny at: 'tcp://127.0.0.1:35773'\n",
      "distributed.nanny - INFO -         Start Nanny at: 'tcp://127.0.0.1:36433'\n",
      "distributed.nanny - INFO -         Start Nanny at: 'tcp://127.0.0.1:40513'\n",
      "distributed.nanny - INFO -         Start Nanny at: 'tcp://127.0.0.1:33347'\n",
      "distributed.nanny - INFO -         Start Nanny at: 'tcp://127.0.0.1:38443'\n",
      "distributed.nanny - INFO -         Start Nanny at: 'tcp://127.0.0.1:36063'\n",
      "distributed.nanny - INFO -         Start Nanny at: 'tcp://127.0.0.1:39525'\n",
      "distributed.nanny - INFO -         Start Nanny at: 'tcp://127.0.0.1:46619'\n",
      "distributed.nanny - INFO -         Start Nanny at: 'tcp://127.0.0.1:37825'\n",
      "distributed.scheduler - INFO - Register worker <Worker 'tcp://127.0.0.1:34483', name: 0, memory: 0, processing: 0>\n",
      "distributed.scheduler - INFO - Starting worker compute stream, tcp://127.0.0.1:34483\n",
      "distributed.core - INFO - Starting established connection\n",
      "distributed.scheduler - INFO - Register worker <Worker 'tcp://127.0.0.1:40709', name: 2, memory: 0, processing: 0>\n",
      "distributed.scheduler - INFO - Starting worker compute stream, tcp://127.0.0.1:40709\n",
      "distributed.core - INFO - Starting established connection\n",
      "distributed.scheduler - INFO - Register worker <Worker 'tcp://127.0.0.1:39397', name: 10, memory: 0, processing: 0>\n",
      "distributed.scheduler - INFO - Starting worker compute stream, tcp://127.0.0.1:39397\n",
      "distributed.core - INFO - Starting established connection\n",
      "distributed.scheduler - INFO - Register worker <Worker 'tcp://127.0.0.1:41905', name: 15, memory: 0, processing: 0>\n",
      "distributed.scheduler - INFO - Starting worker compute stream, tcp://127.0.0.1:41905\n",
      "distributed.core - INFO - Starting established connection\n",
      "distributed.scheduler - INFO - Register worker <Worker 'tcp://127.0.0.1:43921', name: 26, memory: 0, processing: 0>\n",
      "distributed.scheduler - INFO - Starting worker compute stream, tcp://127.0.0.1:43921\n",
      "distributed.core - INFO - Starting established connection\n",
      "distributed.scheduler - INFO - Register worker <Worker 'tcp://127.0.0.1:38857', name: 25, memory: 0, processing: 0>\n",
      "distributed.scheduler - INFO - Starting worker compute stream, tcp://127.0.0.1:38857\n",
      "distributed.core - INFO - Starting established connection\n",
      "distributed.scheduler - INFO - Register worker <Worker 'tcp://127.0.0.1:37447', name: 7, memory: 0, processing: 0>\n",
      "distributed.scheduler - INFO - Starting worker compute stream, tcp://127.0.0.1:37447\n",
      "distributed.core - INFO - Starting established connection\n",
      "distributed.scheduler - INFO - Register worker <Worker 'tcp://127.0.0.1:36187', name: 1, memory: 0, processing: 0>\n",
      "distributed.scheduler - INFO - Starting worker compute stream, tcp://127.0.0.1:36187\n",
      "distributed.core - INFO - Starting established connection\n",
      "distributed.scheduler - INFO - Register worker <Worker 'tcp://127.0.0.1:44543', name: 17, memory: 0, processing: 0>\n",
      "distributed.scheduler - INFO - Starting worker compute stream, tcp://127.0.0.1:44543\n",
      "distributed.core - INFO - Starting established connection\n",
      "distributed.scheduler - INFO - Register worker <Worker 'tcp://127.0.0.1:45061', name: 12, memory: 0, processing: 0>\n",
      "distributed.scheduler - INFO - Starting worker compute stream, tcp://127.0.0.1:45061\n",
      "distributed.core - INFO - Starting established connection\n",
      "distributed.scheduler - INFO - Register worker <Worker 'tcp://127.0.0.1:45291', name: 13, memory: 0, processing: 0>\n",
      "distributed.scheduler - INFO - Starting worker compute stream, tcp://127.0.0.1:45291\n",
      "distributed.core - INFO - Starting established connection\n",
      "distributed.scheduler - INFO - Register worker <Worker 'tcp://127.0.0.1:45155', name: 20, memory: 0, processing: 0>\n",
      "distributed.scheduler - INFO - Starting worker compute stream, tcp://127.0.0.1:45155\n",
      "distributed.core - INFO - Starting established connection\n",
      "distributed.scheduler - INFO - Register worker <Worker 'tcp://127.0.0.1:39839', name: 22, memory: 0, processing: 0>\n",
      "distributed.scheduler - INFO - Starting worker compute stream, tcp://127.0.0.1:39839\n",
      "distributed.core - INFO - Starting established connection\n",
      "distributed.scheduler - INFO - Register worker <Worker 'tcp://127.0.0.1:40103', name: 5, memory: 0, processing: 0>\n",
      "distributed.scheduler - INFO - Starting worker compute stream, tcp://127.0.0.1:40103\n",
      "distributed.core - INFO - Starting established connection\n",
      "distributed.scheduler - INFO - Register worker <Worker 'tcp://127.0.0.1:41875', name: 24, memory: 0, processing: 0>\n",
      "distributed.scheduler - INFO - Starting worker compute stream, tcp://127.0.0.1:41875\n",
      "distributed.core - INFO - Starting established connection\n",
      "distributed.scheduler - INFO - Register worker <Worker 'tcp://127.0.0.1:46423', name: 6, memory: 0, processing: 0>\n",
      "distributed.scheduler - INFO - Starting worker compute stream, tcp://127.0.0.1:46423\n",
      "distributed.core - INFO - Starting established connection\n",
      "distributed.scheduler - INFO - Register worker <Worker 'tcp://127.0.0.1:42495', name: 18, memory: 0, processing: 0>\n",
      "distributed.scheduler - INFO - Starting worker compute stream, tcp://127.0.0.1:42495\n",
      "distributed.core - INFO - Starting established connection\n",
      "distributed.scheduler - INFO - Register worker <Worker 'tcp://127.0.0.1:46369', name: 8, memory: 0, processing: 0>\n",
      "distributed.scheduler - INFO - Starting worker compute stream, tcp://127.0.0.1:46369\n",
      "distributed.core - INFO - Starting established connection\n",
      "distributed.scheduler - INFO - Register worker <Worker 'tcp://127.0.0.1:42101', name: 4, memory: 0, processing: 0>\n",
      "distributed.scheduler - INFO - Starting worker compute stream, tcp://127.0.0.1:42101\n",
      "distributed.core - INFO - Starting established connection\n",
      "distributed.scheduler - INFO - Register worker <Worker 'tcp://127.0.0.1:38509', name: 16, memory: 0, processing: 0>\n",
      "distributed.scheduler - INFO - Starting worker compute stream, tcp://127.0.0.1:38509\n",
      "distributed.core - INFO - Starting established connection\n",
      "distributed.scheduler - INFO - Register worker <Worker 'tcp://127.0.0.1:32971', name: 19, memory: 0, processing: 0>\n",
      "distributed.scheduler - INFO - Starting worker compute stream, tcp://127.0.0.1:32971\n",
      "distributed.core - INFO - Starting established connection\n",
      "distributed.scheduler - INFO - Register worker <Worker 'tcp://127.0.0.1:36523', name: 23, memory: 0, processing: 0>\n",
      "distributed.scheduler - INFO - Starting worker compute stream, tcp://127.0.0.1:36523\n",
      "distributed.core - INFO - Starting established connection\n",
      "distributed.scheduler - INFO - Register worker <Worker 'tcp://127.0.0.1:43911', name: 11, memory: 0, processing: 0>\n",
      "distributed.scheduler - INFO - Starting worker compute stream, tcp://127.0.0.1:43911\n",
      "distributed.core - INFO - Starting established connection\n",
      "distributed.scheduler - INFO - Register worker <Worker 'tcp://127.0.0.1:40623', name: 27, memory: 0, processing: 0>\n",
      "distributed.scheduler - INFO - Starting worker compute stream, tcp://127.0.0.1:40623\n",
      "distributed.core - INFO - Starting established connection\n",
      "distributed.scheduler - INFO - Register worker <Worker 'tcp://127.0.0.1:40629', name: 21, memory: 0, processing: 0>\n",
      "distributed.scheduler - INFO - Starting worker compute stream, tcp://127.0.0.1:40629\n",
      "distributed.core - INFO - Starting established connection\n",
      "distributed.scheduler - INFO - Register worker <Worker 'tcp://127.0.0.1:38379', name: 9, memory: 0, processing: 0>\n",
      "distributed.scheduler - INFO - Starting worker compute stream, tcp://127.0.0.1:38379\n",
      "distributed.core - INFO - Starting established connection\n",
      "distributed.scheduler - INFO - Register worker <Worker 'tcp://127.0.0.1:36637', name: 14, memory: 0, processing: 0>\n",
      "distributed.scheduler - INFO - Starting worker compute stream, tcp://127.0.0.1:36637\n",
      "distributed.core - INFO - Starting established connection\n",
      "distributed.scheduler - INFO - Register worker <Worker 'tcp://127.0.0.1:40305', name: 3, memory: 0, processing: 0>\n",
      "distributed.scheduler - INFO - Starting worker compute stream, tcp://127.0.0.1:40305\n",
      "distributed.core - INFO - Starting established connection\n",
      "distributed.scheduler - INFO - Receive client connection: Client-011f9712-3f30-11eb-bbd7-07f24d87f074\n",
      "distributed.core - INFO - Starting established connection\n"
     ]
    },
    {
     "name": "stdout",
     "output_type": "stream",
     "text": [
      "http://127.0.0.1:36899/status\n"
     ]
    }
   ],
   "source": [
    "from dask.distributed import Client, LocalCluster\n",
    "import logging\n",
    "\n",
    "cluster = LocalCluster(\n",
    "    n_workers=28,\n",
    "    threads_per_worker=8,\n",
    "    silence_logs=logging.DEBUG\n",
    ")\n",
    "\n",
    "client = Client(cluster, heartbeat_interval=10000)\n",
    "print(client.dashboard_link)"
   ]
  },
  {
   "cell_type": "code",
   "execution_count": 2,
   "metadata": {},
   "outputs": [
    {
     "name": "stdout",
     "output_type": "stream",
     "text": [
      "0.2.9.dev460469908\n"
     ]
    }
   ],
   "source": [
    "import afqinsight as afqi\n",
    "import beeswarm as bs\n",
    "import joblib\n",
    "import matplotlib.pyplot as plt\n",
    "import numpy as np\n",
    "import os.path as op\n",
    "import pandas as pd\n",
    "import pickle\n",
    "import seaborn as sns\n",
    "\n",
    "from datetime import datetime\n",
    "\n",
    "from sklearn.model_selection import RepeatedStratifiedKFold\n",
    "from sklearn.model_selection import LeaveOneOut\n",
    "from sklearn.metrics import accuracy_score\n",
    "\n",
    "from skopt import BayesSearchCV\n",
    "from skopt.plots import plot_convergence, plot_objective, plot_evaluations\n",
    "\n",
    "print(afqi.__version__)"
   ]
  },
  {
   "cell_type": "code",
   "execution_count": 3,
   "metadata": {},
   "outputs": [],
   "source": [
    "X, y, groups, columns, subjects, classes = afqi.load_afq_data(\n",
    "    \"../data/raw/als_data\",\n",
    "    target_cols=[\"class\"],\n",
    "    label_encode_cols=[\"class\"],\n",
    ")"
   ]
  },
  {
   "cell_type": "code",
   "execution_count": 4,
   "metadata": {},
   "outputs": [],
   "source": [
    "label_sets = afqi.multicol2sets(pd.MultiIndex.from_tuples(columns, names=[\"metric\", \"tractID\", \"nodeID\"]))"
   ]
  },
  {
   "cell_type": "code",
   "execution_count": 5,
   "metadata": {},
   "outputs": [],
   "source": [
    "X_md_fa = afqi.select_groups(X, [[\"fa\"], [\"md\"]], label_sets)"
   ]
  },
  {
   "cell_type": "code",
   "execution_count": 6,
   "metadata": {},
   "outputs": [],
   "source": [
    "groups_md_fa = groups[:40]"
   ]
  },
  {
   "cell_type": "code",
   "execution_count": 7,
   "metadata": {
    "scrolled": true
   },
   "outputs": [],
   "source": [
    "def get_cv_results(n_repeats=5, n_splits=10,\n",
    "                   power_transformer=False, \n",
    "                   shuffle=False,\n",
    "                   ensembler=None,\n",
    "                   n_estimators=10,\n",
    "                   max_samples=1.0):\n",
    "    if shuffle:\n",
    "        rng = np.random.default_rng()\n",
    "        y_fit = rng.permutation(y)\n",
    "    else:\n",
    "        y_fit = np.copy(y)\n",
    "\n",
    "    cv = RepeatedStratifiedKFold(\n",
    "        n_splits=n_splits,\n",
    "        n_repeats=n_repeats,\n",
    "        random_state=1729\n",
    "    )\n",
    "\n",
    "    cv_results = {}\n",
    "    pipe_skopt = afqi.make_afq_classifier_pipeline(\n",
    "        imputer_kwargs={\"strategy\": \"median\"},\n",
    "        use_cv_estimator=True,\n",
    "        power_transformer=power_transformer,\n",
    "        scaler=\"standard\",\n",
    "        groups=groups_md_fa,\n",
    "        verbose=0,\n",
    "        pipeline_verbosity=False,\n",
    "        tuning_strategy=\"bayes\",\n",
    "        cv=3,\n",
    "        n_bayes_points=9,\n",
    "        n_jobs=28,\n",
    "        l1_ratio=[0.0, 1.0],\n",
    "        eps=5e-2,\n",
    "        n_alphas=100,\n",
    "        ensemble_meta_estimator=ensembler,\n",
    "        ensemble_meta_estimator_kwargs={\n",
    "            \"n_estimators\": n_estimators,\n",
    "            \"n_jobs\": 1,\n",
    "            \"oob_score\": True,\n",
    "            \"random_state\": 1729,\n",
    "            \"max_samples\": max_samples,\n",
    "        },\n",
    "    )\n",
    "\n",
    "    for cv_idx, (train_idx, test_idx) in enumerate(cv.split(X_md_fa, y_fit)):\n",
    "        start = datetime.now()\n",
    "\n",
    "        X_train, X_test = X_md_fa[train_idx], X_md_fa[test_idx]\n",
    "        y_train, y_test = y_fit[train_idx], y_fit[test_idx]\n",
    "\n",
    "        with joblib.parallel_backend(\"dask\"):\n",
    "            pipe_skopt.fit(X_train, y_train)\n",
    "\n",
    "        cv_results[cv_idx] = {\n",
    "            \"pipeline\": pipe_skopt,\n",
    "            \"train_idx\": train_idx,\n",
    "            \"test_idx\": test_idx,\n",
    "            \"y_prob\": pipe_skopt.predict_proba(X_test)[:, 1],\n",
    "            \"y_pred\": pipe_skopt.predict(X_test),\n",
    "            \"y_true\": y_test,\n",
    "            \"test_accuracy\": accuracy_score(y_test, pipe_skopt.predict(X_test)),\n",
    "            \"train_accuracy\": accuracy_score(y_train, pipe_skopt.predict(X_train))\n",
    "        }\n",
    "        \n",
    "        if ensembler is None:\n",
    "            cv_results[cv_idx][\"optimizer\"] = pipe_skopt.named_steps[\"estimate\"].bayes_optimizer_\n",
    "\n",
    "\n",
    "        print(f\"CV index [{cv_idx:3d}], Elapsed time: \", datetime.now() - start)\n",
    "        \n",
    "    return cv_results, y_fit"
   ]
  },
  {
   "cell_type": "code",
   "execution_count": 8,
   "metadata": {
    "scrolled": true
   },
   "outputs": [],
   "source": [
    "# results = {}\n",
    "# results[\"no_power_transform\"] = get_cv_results(\n",
    "#     n_splits=10, n_repeats=5, power_transformer=False, shuffle=False\n",
    "# )\n",
    "# results[\"power_transform\"] = get_cv_results(\n",
    "#     n_splits=10, n_repeats=5, power_transformer=True, shuffle=False\n",
    "# )\n",
    "\n",
    "# results[\"shuffle_no_transform\"] = get_cv_results(\n",
    "#     n_splits=10, n_repeats=3, power_transformer=False, shuffle=True\n",
    "# )\n",
    "# results[\"shuffle_transform\"] = get_cv_results(\n",
    "#     n_splits=10, n_repeats=3, power_transformer=True, shuffle=True\n",
    "# )"
   ]
  },
  {
   "cell_type": "code",
   "execution_count": 9,
   "metadata": {},
   "outputs": [],
   "source": [
    "with open(\"als_classify.pkl\", \"rb\") as fp:\n",
    "    results = pickle.load(fp)"
   ]
  },
  {
   "cell_type": "code",
   "execution_count": 10,
   "metadata": {},
   "outputs": [
    {
     "data": {
      "text/plain": [
       "dict_keys(['no_power_transform', 'power_transform', 'shuffle_no_transform', 'shuffle_transform', 'bagging', 'bagging_shuffle', 'bagging_stratify', 'bagging_shuffle_stratify'])"
      ]
     },
     "execution_count": 10,
     "metadata": {},
     "output_type": "execute_result"
    }
   ],
   "source": [
    "results.keys()"
   ]
  },
  {
   "cell_type": "code",
   "execution_count": 11,
   "metadata": {},
   "outputs": [
    {
     "name": "stdout",
     "output_type": "stream",
     "text": [
      "no_power_transform test 0.828\n",
      "no_power_transform train 1.0\n",
      "power_transform test 0.7969999999999999\n",
      "power_transform train 1.0\n",
      "shuffle_no_transform test 0.5150000000000001\n",
      "shuffle_no_transform train 0.9821881606765328\n",
      "shuffle_transform test 0.5\n",
      "shuffle_transform train 0.9790697674418605\n",
      "bagging test 0.8400000000000001\n",
      "bagging train 0.9838266384778013\n",
      "bagging_shuffle test 0.5700000000000001\n",
      "bagging_shuffle train 1.0\n",
      "bagging_stratify test 0.8600000000000001\n",
      "bagging_stratify train 0.993076109936575\n",
      "bagging_shuffle_stratify test 0.495\n",
      "bagging_shuffle_stratify train 0.9676532769556025\n"
     ]
    }
   ],
   "source": [
    "for key, res in results.items():\n",
    "    test_accuracies = [cvr[\"test_accuracy\"] for cvr in res[0].values()]\n",
    "    train_accuracies = [cvr[\"train_accuracy\"] for cvr in res[0].values()]\n",
    "    print(key, \"test\", np.mean(test_accuracies))\n",
    "    print(key, \"train\", np.mean(train_accuracies))"
   ]
  },
  {
   "cell_type": "code",
   "execution_count": 12,
   "metadata": {},
   "outputs": [],
   "source": [
    "import itertools\n",
    "\n",
    "def mean_over_combinations(results):\n",
    "    length = len(results)\n",
    "    mean_results = {}\n",
    "    for r in range(1, length + 1):\n",
    "        mean_results[r] = [\n",
    "            np.mean([res[\"yhat\"].values for res in comb], axis=0)\n",
    "            for comb in itertools.combinations(results, r=r)\n",
    "        ]\n",
    "        \n",
    "    return mean_results\n",
    "\n",
    "def accuracy_over_combinations(results):\n",
    "    mean_results = mean_over_combinations(results)\n",
    "    mean_accuracies = []\n",
    "    for r in mean_results.keys():\n",
    "        mean_accuracies += [\n",
    "            {\n",
    "                \"n_repeats\": r,\n",
    "                \"accuracy\": accuracy_score(results[0][\"class\"].values, res > 0.5)\n",
    "            } for res in mean_results[r]\n",
    "        ]\n",
    "        \n",
    "    return pd.DataFrame(mean_accuracies)\n",
    "\n",
    "def auc_over_combinations(results):\n",
    "    mean_results = mean_over_combinations(results)\n",
    "    mean_auc = []\n",
    "    for r in mean_results.keys():\n",
    "        mean_auc += [\n",
    "            {\n",
    "                \"n_repeats\": r,\n",
    "                \"auc\": roc_auc_score(results[0][\"class\"].values, res)\n",
    "            } for res in mean_results[r]\n",
    "        ]\n",
    "        \n",
    "    return pd.DataFrame(mean_auc)\n",
    "\n",
    "def get_accuracy_ensemble_dataframe(cv_results, y_true):    \n",
    "    test_probs = {\n",
    "        idx: pd.Series(\n",
    "            data=cvr[\"y_prob\"],\n",
    "            index=cvr[\"test_idx\"],\n",
    "            name=\"yhat\"\n",
    "        )\n",
    "        for idx, cvr in cv_results.items()\n",
    "    }\n",
    "    \n",
    "    df_ytest = {\n",
    "        idx: pd.DataFrame(test_probs[idx]).merge(\n",
    "            pd.DataFrame(y, columns=[\"class\"]),\n",
    "            left_index=True,\n",
    "            right_index=True,\n",
    "            how=\"left\"\n",
    "        ) for idx in test_probs.keys()\n",
    "    }\n",
    "    \n",
    "    acc_scores = [\n",
    "        accuracy_score(_df[\"class\"].values, _df[\"yhat\"].values > 0.5)\n",
    "        for _df in df_ytest.values()\n",
    "    ]\n",
    "    \n",
    "    repeats = [\n",
    "        pd.concat([df_ytest[i] for i in range(x * 10, (x + 1) * 10)]).sort_index()\n",
    "        for x in range(len(cv_results) // 10)\n",
    "    ]\n",
    "    \n",
    "    return accuracy_over_combinations(repeats)"
   ]
  },
  {
   "cell_type": "code",
   "execution_count": 13,
   "metadata": {
    "scrolled": true
   },
   "outputs": [],
   "source": [
    "df_accuracies = {\n",
    "    key: get_accuracy_ensemble_dataframe(res[0], y)\n",
    "    for key, res in results.items()\n",
    "}"
   ]
  },
  {
   "cell_type": "code",
   "execution_count": 14,
   "metadata": {},
   "outputs": [
    {
     "data": {
      "text/plain": [
       "<seaborn.axisgrid.FacetGrid at 0x7f26c05c4310>"
      ]
     },
     "execution_count": 14,
     "metadata": {},
     "output_type": "execute_result"
    },
    {
     "data": {
      "image/png": "[encoded data removed]",
      "text/plain": [
       "<Figure size 360x360 with 1 Axes>"
      ]
     },
     "metadata": {
      "needs_background": "light"
     },
     "output_type": "display_data"
    }
   ],
   "source": [
    "sns.catplot(x=\"n_repeats\", y=\"accuracy\", data=df_accuracies[\"no_power_transform\"])"
   ]
  },
  {
   "cell_type": "code",
   "execution_count": 15,
   "metadata": {},
   "outputs": [
    {
     "data": {
      "text/plain": [
       "<seaborn.axisgrid.FacetGrid at 0x7f251933c7d0>"
      ]
     },
     "execution_count": 15,
     "metadata": {},
     "output_type": "execute_result"
    },
    {
     "data": {
      "image/png": "[encoded data removed]",
      "text/plain": [
       "<Figure size 360x360 with 1 Axes>"
      ]
     },
     "metadata": {
      "needs_background": "light"
     },
     "output_type": "display_data"
    }
   ],
   "source": [
    "sns.catplot(x=\"n_repeats\", y=\"accuracy\", data=df_accuracies[\"shuffle_no_transform\"])"
   ]
  },
  {
   "cell_type": "code",
   "execution_count": 16,
   "metadata": {
    "scrolled": true
   },
   "outputs": [],
   "source": [
    "# results[\"bagging_stratify\"] = get_cv_results(\n",
    "#     n_splits=10, n_repeats=1, power_transformer=False,\n",
    "#     ensembler=\"serial-bagging\", shuffle=False,\n",
    "#     n_estimators=20\n",
    "# )\n",
    "# results[\"bagging_shuffle_stratify\"] = get_cv_results(\n",
    "#     n_splits=10, n_repeats=1, power_transformer=False,\n",
    "#     ensembler=\"serial-bagging\", shuffle=True\n",
    "# )"
   ]
  },
  {
   "cell_type": "code",
   "execution_count": 17,
   "metadata": {},
   "outputs": [
    {
     "name": "stdout",
     "output_type": "stream",
     "text": [
      "no_power_transform test 0.828\n",
      "no_power_transform train 1.0\n",
      "power_transform test 0.7969999999999999\n",
      "power_transform train 1.0\n",
      "shuffle_no_transform test 0.5150000000000001\n",
      "shuffle_no_transform train 0.9821881606765328\n",
      "shuffle_transform test 0.5\n",
      "shuffle_transform train 0.9790697674418605\n",
      "bagging test 0.8400000000000001\n",
      "bagging train 0.9838266384778013\n",
      "bagging_shuffle test 0.5700000000000001\n",
      "bagging_shuffle train 1.0\n",
      "bagging_stratify test 0.8600000000000001\n",
      "bagging_stratify train 0.993076109936575\n",
      "bagging_shuffle_stratify test 0.495\n",
      "bagging_shuffle_stratify train 0.9676532769556025\n"
     ]
    }
   ],
   "source": [
    "for key, res in results.items():\n",
    "    test_accuracies = [cvr[\"test_accuracy\"] for cvr in res[0].values()]\n",
    "    train_accuracies = [cvr[\"train_accuracy\"] for cvr in res[0].values()]\n",
    "    print(key, \"test\", np.mean(test_accuracies))\n",
    "    print(key, \"train\", np.mean(train_accuracies))"
   ]
  },
  {
   "cell_type": "code",
   "execution_count": 18,
   "metadata": {},
   "outputs": [],
   "source": [
    "# with open(\"als_classify.pkl\", \"wb\") as fp:\n",
    "#     pickle.dump(results, fp)"
   ]
  },
  {
   "cell_type": "code",
   "execution_count": 19,
   "metadata": {},
   "outputs": [],
   "source": [
    "bagging_results = results[\"bagging_stratify\"][0]"
   ]
  },
  {
   "cell_type": "code",
   "execution_count": 20,
   "metadata": {},
   "outputs": [
    {
     "data": {
      "text/plain": [
       "dict_keys(['pipeline', 'train_idx', 'test_idx', 'y_prob', 'y_pred', 'y_true', 'test_accuracy', 'train_accuracy'])"
      ]
     },
     "execution_count": 20,
     "metadata": {},
     "output_type": "execute_result"
    }
   ],
   "source": [
    "bagging_results[0].keys()"
   ]
  },
  {
   "cell_type": "code",
   "execution_count": 21,
   "metadata": {},
   "outputs": [],
   "source": [
    "nested_lists = [[\n",
    "    est.coef_ for est in\n",
    "    bag_res[\"pipeline\"].named_steps[\"estimate\"].estimators_\n",
    "] for bag_res in bagging_results.values()]\n",
    "\n",
    "coefs = [y for x in nested_lists for y in x]"
   ]
  },
  {
   "cell_type": "code",
   "execution_count": 22,
   "metadata": {},
   "outputs": [
    {
     "data": {
      "text/plain": [
       "(200, 4000)"
      ]
     },
     "execution_count": 22,
     "metadata": {},
     "output_type": "execute_result"
    }
   ],
   "source": [
    "np.array(coefs).shape"
   ]
  },
  {
   "cell_type": "code",
   "execution_count": 23,
   "metadata": {},
   "outputs": [],
   "source": [
    "columns_md_fa = [\n",
    "    c for c in columns\n",
    "    if \"fa\" in c or \"md\" in c\n",
    "]"
   ]
  },
  {
   "cell_type": "code",
   "execution_count": 24,
   "metadata": {},
   "outputs": [
    {
     "name": "stderr",
     "output_type": "stream",
     "text": [
      "/opt/tljh/user/lib/python3.7/site-packages/dipy/viz/__init__.py:32: UserWarning: You do not have FURY installed. Some visualization functions might not work for you. For installation instructions, please visit: https://fury.gl/\n",
      "  \"You do not have FURY installed. \"\n"
     ]
    },
    {
     "ename": "ImportError",
     "evalue": "cannot import name 'window' from 'dipy.viz' (/opt/tljh/user/lib/python3.7/site-packages/dipy/viz/__init__.py)",
     "output_type": "error",
     "traceback": [
      "\u001b[0;31m---------------------------------------------------------------------------\u001b[0m",
      "\u001b[0;31mImportError\u001b[0m                               Traceback (most recent call last)",
      "\u001b[0;32m<ipython-input-24-6efefd626dc3>\u001b[0m in \u001b[0;36m<module>\u001b[0;34m\u001b[0m\n\u001b[0;32m----> 1\u001b[0;31m \u001b[0;32mfrom\u001b[0m \u001b[0mdipy\u001b[0m\u001b[0;34m.\u001b[0m\u001b[0mviz\u001b[0m \u001b[0;32mimport\u001b[0m \u001b[0mwindow\u001b[0m\u001b[0;34m,\u001b[0m \u001b[0mactor\u001b[0m\u001b[0;34m,\u001b[0m \u001b[0mpanel\u001b[0m\u001b[0;34m\u001b[0m\u001b[0;34m\u001b[0m\u001b[0m\n\u001b[0m\u001b[1;32m      2\u001b[0m \u001b[0;32mfrom\u001b[0m \u001b[0mdipy\u001b[0m\u001b[0;34m.\u001b[0m\u001b[0mdata\u001b[0m \u001b[0;32mimport\u001b[0m \u001b[0mfetch_bundles_2_subjects\u001b[0m\u001b[0;34m,\u001b[0m \u001b[0mread_bundles_2_subjects\u001b[0m\u001b[0;34m\u001b[0m\u001b[0;34m\u001b[0m\u001b[0m\n\u001b[1;32m      3\u001b[0m \u001b[0;32mfrom\u001b[0m \u001b[0mdipy\u001b[0m\u001b[0;34m.\u001b[0m\u001b[0mtracking\u001b[0m\u001b[0;34m.\u001b[0m\u001b[0mstreamline\u001b[0m \u001b[0;32mimport\u001b[0m \u001b[0mtransform_streamlines\u001b[0m\u001b[0;34m\u001b[0m\u001b[0;34m\u001b[0m\u001b[0m\n\u001b[1;32m      4\u001b[0m \u001b[0;32mfrom\u001b[0m \u001b[0mdipy\u001b[0m\u001b[0;34m.\u001b[0m\u001b[0mviz\u001b[0m \u001b[0;32mimport\u001b[0m \u001b[0mcolormap\u001b[0m\u001b[0;34m\u001b[0m\u001b[0;34m\u001b[0m\u001b[0m\n\u001b[1;32m      5\u001b[0m \u001b[0;32mfrom\u001b[0m \u001b[0mdipy\u001b[0m\u001b[0;34m.\u001b[0m\u001b[0mviz\u001b[0m \u001b[0;32mimport\u001b[0m \u001b[0mui\u001b[0m\u001b[0;34m\u001b[0m\u001b[0;34m\u001b[0m\u001b[0m\n",
      "\u001b[0;31mImportError\u001b[0m: cannot import name 'window' from 'dipy.viz' (/opt/tljh/user/lib/python3.7/site-packages/dipy/viz/__init__.py)"
     ]
    }
   ],
   "source": [
    "from dipy.viz import window, actor, panel\n",
    "from dipy.data import fetch_bundles_2_subjects, read_bundles_2_subjects\n",
    "from dipy.tracking.streamline import transform_streamlines\n",
    "from dipy.viz import colormap\n",
    "from dipy.viz import ui\n",
    "\n",
    "import json"
   ]
  },
  {
   "cell_type": "code",
   "execution_count": null,
   "metadata": {},
   "outputs": [],
   "source": [
    "df_bag = pd.concat([\n",
    "    pd.DataFrame.from_dict(\n",
    "        {\n",
    "            k: v for k, v in bag_res.items()\n",
    "            if k in [\"test_idx\", \"y_prob\", \"y_true\"]\n",
    "        }\n",
    "    ).set_index(keys=\"test_idx\", drop=True)\n",
    "    for bag_res in bagging_results.values()\n",
    "]).sort_index()\n",
    "df_bag.head()"
   ]
  },
  {
   "cell_type": "code",
   "execution_count": null,
   "metadata": {},
   "outputs": [],
   "source": [
    "df_bag[\"Ground truth\"] = df_bag[\"y_true\"].map({0: \"Control\", 1: \"ALS\"})\n",
    "df_bag[\"y_pred\"] = (df_bag[\"y_prob\"] > 0.5).astype(int)\n",
    "df_bag[\"Prediction\"] = df_bag[\"y_pred\"].map(\n",
    "    {0: \"Predicted control\", 1: \"Predicted ALS\"}\n",
    ")\n",
    "df_bag.head()"
   ]
  },
  {
   "cell_type": "code",
   "execution_count": null,
   "metadata": {},
   "outputs": [],
   "source": [
    "fig, ax = plt.subplots(1, 1, figsize=(8, 8))\n",
    "sns.swarmplot(\n",
    "    y=\"y_prob\",\n",
    "    x=\"Ground truth\",\n",
    "    hue=\"Prediction\",\n",
    "    data=df_bag,\n",
    "    ax=ax,\n",
    "    s=18\n",
    ")\n",
    "\n",
    "ax.set_ylabel(\"Classification probabilities\", fontsize=18)\n",
    "ax.set_xlabel(\"Ground truth\", fontsize=18)\n",
    "ax.legend(fontsize=18, markerscale=2)\n",
    "ax.tick_params(axis = 'both', which = 'major', labelsize = 16)\n",
    "ax.tick_params(axis = 'both', which = 'minor', labelsize = 12)\n",
    "ax.axhline(0.5, ls=\"--\", color=\"black\")\n",
    "print(accuracy_score(df_bag[\"y_true\"], df_bag[\"y_pred\"]))"
   ]
  },
  {
   "cell_type": "code",
   "execution_count": null,
   "metadata": {},
   "outputs": [],
   "source": []
  }
 ],
 "metadata": {
  "kernelspec": {
   "display_name": "Python 3",
   "language": "python",
   "name": "python3"
  },
  "language_info": {
   "codemirror_mode": {
    "name": "ipython",
    "version": 3
   },
   "file_extension": ".py",
   "mimetype": "text/x-python",
   "name": "python",
   "nbconvert_exporter": "python",
   "pygments_lexer": "ipython3",
   "version": "3.7.7"
  }
 },
 "nbformat": 4,
 "nbformat_minor": 4
}
