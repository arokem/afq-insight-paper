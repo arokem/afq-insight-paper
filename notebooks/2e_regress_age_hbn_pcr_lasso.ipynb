{
 "cells": [
  {
   "cell_type": "code",
   "execution_count": 1,
   "metadata": {},
   "outputs": [
    {
     "name": "stdout",
     "output_type": "stream",
     "text": [
      "0.2.9.dev460469908\n"
     ]
    }
   ],
   "source": [
    "import afqinsight as afqi\n",
    "import joblib\n",
    "import matplotlib.pyplot as plt\n",
    "import numpy as np\n",
    "import os.path as op\n",
    "import pandas as pd\n",
    "import pickle\n",
    "import seaborn as sns\n",
    "\n",
    "from datetime import datetime\n",
    "\n",
    "from sklearn.base import clone\n",
    "from sklearn.model_selection import RepeatedKFold\n",
    "from sklearn.metrics import median_absolute_error, r2_score\n",
    "from sklearn.metrics import explained_variance_score, mean_squared_error\n",
    "from sklearn.linear_model import LassoCV\n",
    "from sklearn.decomposition import PCA\n",
    "from sklearn.pipeline import Pipeline\n",
    "\n",
    "from skopt import BayesSearchCV\n",
    "from skopt.plots import plot_convergence, plot_objective, plot_evaluations\n",
    "\n",
    "print(afqi.__version__)"
   ]
  },
  {
   "cell_type": "code",
   "execution_count": 2,
   "metadata": {},
   "outputs": [],
   "source": [
    "with open(\"hbn_regression_pure_lasso.pkl\", \"rb\") as fp:\n",
    "    results = pickle.load(fp)"
   ]
  },
  {
   "cell_type": "code",
   "execution_count": 3,
   "metadata": {},
   "outputs": [
    {
     "data": {
      "text/plain": [
       "dict_keys(['bagging_pure_lasso_trim0', 'bagging_target_transform_pure_lasso_trim0'])"
      ]
     },
     "execution_count": 3,
     "metadata": {},
     "output_type": "execute_result"
    }
   ],
   "source": [
    "results.keys()"
   ]
  },
  {
   "cell_type": "code",
   "execution_count": 4,
   "metadata": {},
   "outputs": [],
   "source": [
    "X, y, groups, columns, subjects, classes = afqi.load_afq_data(\n",
    "    \"../data/raw/hbn_data\",\n",
    "    target_cols=[\"Age\"],\n",
    "    index_col=\"EID\"\n",
    ")"
   ]
  },
  {
   "cell_type": "code",
   "execution_count": 5,
   "metadata": {},
   "outputs": [
    {
     "data": {
      "text/plain": [
       "(1597, 3600)"
      ]
     },
     "execution_count": 5,
     "metadata": {},
     "output_type": "execute_result"
    }
   ],
   "source": [
    "X.shape"
   ]
  },
  {
   "cell_type": "code",
   "execution_count": 6,
   "metadata": {},
   "outputs": [],
   "source": [
    "df_y = pd.read_csv(\"../data/raw/hbn_data/subjects.csv\").drop(axis=\"rows\", index=0)\n",
    "df_y = df_y[[\"EID\", \"Age\"]]\n",
    "df_y = df_y.set_index(\"EID\", drop=True)\n",
    "df_subs = pd.DataFrame(index=subjects)\n",
    "df_subs = df_subs.merge(df_y, how=\"left\", left_index=True, right_index=True)\n",
    "y = df_subs[\"Age\"].astype(np.float64).values\n",
    "nan_mask = np.logical_not(np.isnan(y))\n",
    "y = y[nan_mask]\n",
    "X = X[nan_mask, :]"
   ]
  },
  {
   "cell_type": "code",
   "execution_count": 7,
   "metadata": {},
   "outputs": [
    {
     "name": "stdout",
     "output_type": "stream",
     "text": [
      "(978, 3600)\n",
      "(978,)\n"
     ]
    }
   ],
   "source": [
    "print(X.shape)\n",
    "print(y.shape)"
   ]
  },
  {
   "cell_type": "code",
   "execution_count": 8,
   "metadata": {},
   "outputs": [
    {
     "data": {
      "text/plain": [
       "36"
      ]
     },
     "execution_count": 8,
     "metadata": {},
     "output_type": "execute_result"
    }
   ],
   "source": [
    "len(groups)"
   ]
  },
  {
   "cell_type": "code",
   "execution_count": 9,
   "metadata": {
    "scrolled": true
   },
   "outputs": [],
   "source": [
    "def get_cv_results(n_repeats=5, n_splits=10,\n",
    "                   power_transformer=False, \n",
    "                   shuffle=False,\n",
    "                   ensembler=None,\n",
    "                   target_transform_func=None,\n",
    "                   target_transform_inverse_func=None,\n",
    "                   n_estimators=10,\n",
    "                   trim_nodes=0,\n",
    "                   square_features=False):\n",
    "    if shuffle:\n",
    "        rng = np.random.default_rng()\n",
    "        y_fit = rng.permutation(y)\n",
    "    else:\n",
    "        y_fit = np.copy(y)\n",
    "    \n",
    "    if trim_nodes > 0:\n",
    "        grp_mask = np.zeros_like(groups[0], dtype=bool)\n",
    "        grp_mask[trim_nodes:-trim_nodes] = True\n",
    "        X_mask = np.concatenate([grp_mask] * len(groups))\n",
    "\n",
    "        groups_trim = []\n",
    "        start_idx = 0\n",
    "        \n",
    "        for grp in groups:\n",
    "            stop_idx = start_idx + len(grp) - 2 * trim_nodes\n",
    "            groups_trim.append(np.arange(start_idx, stop_idx))\n",
    "            start_idx += len(grp) - 2 * trim_nodes\n",
    "            \n",
    "        X_trim = X[:, X_mask]\n",
    "    elif trim_nodes == 0:\n",
    "        groups_trim = [grp for grp in groups]\n",
    "        X_trim = np.copy(X)\n",
    "    else:\n",
    "        raise ValueError(\"trim_nodes must be non-negative.\")\n",
    "        \n",
    "    if square_features:\n",
    "        _n_samples, _n_features = X_trim.shape\n",
    "        X_trim = np.hstack([X_trim, np.square(X_trim)])\n",
    "        groups_trim = [np.concatenate([g, g + _n_features]) for g in groups_trim]\n",
    "\n",
    "    cv = RepeatedKFold(\n",
    "        n_splits=n_splits,\n",
    "        n_repeats=n_repeats,\n",
    "        random_state=1729\n",
    "    )\n",
    "\n",
    "    cv_results = {}\n",
    "    \n",
    "    pipe_skopt = afqi.pipeline.make_base_afq_pipeline(\n",
    "        imputer_kwargs={\"strategy\": \"median\"},\n",
    "        power_transformer=power_transformer,\n",
    "        scaler=\"standard\",\n",
    "        estimator=LassoCV,\n",
    "        estimator_kwargs={\n",
    "            \"verbose\": 0,\n",
    "            \"n_alphas\": 50,\n",
    "            \"cv\": 3,\n",
    "            \"n_jobs\": 28,\n",
    "            \"max_iter\": 500,\n",
    "        },\n",
    "        verbose=0,\n",
    "        ensemble_meta_estimator=ensembler,\n",
    "        ensemble_meta_estimator_kwargs={\n",
    "            \"n_estimators\": n_estimators,\n",
    "            \"n_jobs\": 1,\n",
    "            \"oob_score\": True,\n",
    "            \"random_state\": 1729,\n",
    "        },\n",
    "        target_transform_func=target_transform_func,\n",
    "        target_transform_inverse_func=target_transform_inverse_func,\n",
    "    )\n",
    "\n",
    "    for cv_idx, (train_idx, test_idx) in enumerate(cv.split(X_trim, y_fit)):\n",
    "        start = datetime.now()\n",
    "\n",
    "        X_train, X_test = X_trim[train_idx], X_trim[test_idx]\n",
    "        y_train, y_test = y_fit[train_idx], y_fit[test_idx]\n",
    "\n",
    "        pipe_skopt.fit(X_train, y_train)\n",
    "\n",
    "        cv_results[cv_idx] = {\n",
    "            \"pipeline\": pipe_skopt,\n",
    "            \"train_idx\": train_idx,\n",
    "            \"test_idx\": test_idx,\n",
    "            \"y_pred\": pipe_skopt.predict(X_test),\n",
    "            \"y_true\": y_test,\n",
    "            \"test_mae\": median_absolute_error(y_test, pipe_skopt.predict(X_test)),\n",
    "            \"train_mae\": median_absolute_error(y_train, pipe_skopt.predict(X_train)),\n",
    "            \"test_r2\": r2_score(y_test, pipe_skopt.predict(X_test)),\n",
    "            \"train_r2\": r2_score(y_train, pipe_skopt.predict(X_train)),\n",
    "        }\n",
    "        \n",
    "        if ensembler is None:\n",
    "            if ((target_transform_func is not None)\n",
    "                or (target_transform_inverse_func is not None)):\n",
    "                cv_results[cv_idx][\"coefs\"] = pipe_skopt.named_steps[\"estimate\"].regressor_.coef_\n",
    "                cv_results[cv_idx][\"alpha\"] = pipe_skopt.named_steps[\"estimate\"].regressor_.alpha_\n",
    "            else:\n",
    "                cv_results[cv_idx][\"coefs\"] = pipe_skopt.named_steps[\"estimate\"].coef_\n",
    "                cv_results[cv_idx][\"alpha\"] = pipe_skopt.named_steps[\"estimate\"].alpha_\n",
    "        else:\n",
    "            if ((target_transform_func is not None)\n",
    "                or (target_transform_inverse_func is not None)):\n",
    "                cv_results[cv_idx][\"coefs\"] = [\n",
    "                    est.coef_ for est\n",
    "                    in pipe_skopt.named_steps[\"estimate\"].regressor_.estimators_\n",
    "                ]\n",
    "                cv_results[cv_idx][\"alpha\"] = [\n",
    "                    est.alpha_ for est\n",
    "                    in pipe_skopt.named_steps[\"estimate\"].regressor_.estimators_\n",
    "                ]\n",
    "            else:\n",
    "                cv_results[cv_idx][\"coefs\"] = [\n",
    "                    est.coef_ for est\n",
    "                    in pipe_skopt.named_steps[\"estimate\"].estimators_\n",
    "                ]\n",
    "                cv_results[cv_idx][\"alpha\"] = [\n",
    "                    est.alpha_ for est\n",
    "                    in pipe_skopt.named_steps[\"estimate\"].estimators_\n",
    "                ]\n",
    "\n",
    "        print(f\"CV index [{cv_idx:3d}], Elapsed time: \", datetime.now() - start)\n",
    "        \n",
    "    return cv_results, y_fit"
   ]
  },
  {
   "cell_type": "code",
   "execution_count": 10,
   "metadata": {
    "scrolled": true
   },
   "outputs": [
    {
     "name": "stdout",
     "output_type": "stream",
     "text": [
      "CV index [  0], Elapsed time:  0:00:01.606797\n",
      "CV index [  1], Elapsed time:  0:00:01.328460\n",
      "CV index [  2], Elapsed time:  0:00:01.636271\n",
      "CV index [  3], Elapsed time:  0:00:01.595323\n",
      "CV index [  4], Elapsed time:  0:00:01.844708\n",
      "CV index [  0], Elapsed time:  0:00:01.478706\n",
      "CV index [  1], Elapsed time:  0:00:01.640771\n",
      "CV index [  2], Elapsed time:  0:00:01.469996\n",
      "CV index [  3], Elapsed time:  0:00:01.564963\n",
      "CV index [  4], Elapsed time:  0:00:01.495766\n"
     ]
    }
   ],
   "source": [
    "results = {}\n",
    "\n",
    "trim_nodes = 0\n",
    "results[f\"bagging_pure_lasso_trim{trim_nodes}\"] = get_cv_results(\n",
    "    n_splits=5, n_repeats=1, power_transformer=PCA,\n",
    "    shuffle=False,\n",
    "    trim_nodes=trim_nodes, square_features=False\n",
    ")\n",
    "\n",
    "results[f\"bagging_target_transform_pure_lasso_trim{trim_nodes}\"] = get_cv_results(\n",
    "    n_splits=5, n_repeats=1, power_transformer=PCA,\n",
    "    shuffle=False,\n",
    "    target_transform_func=np.log, target_transform_inverse_func=np.exp,\n",
    "    trim_nodes=trim_nodes, square_features=False\n",
    ")"
   ]
  },
  {
   "cell_type": "code",
   "execution_count": 14,
   "metadata": {
    "scrolled": true
   },
   "outputs": [
    {
     "data": {
      "text/plain": [
       "dict_keys(['bagging_pure_lasso_trim0', 'bagging_target_transform_pure_lasso_trim0'])"
      ]
     },
     "execution_count": 14,
     "metadata": {},
     "output_type": "execute_result"
    }
   ],
   "source": [
    "results.keys()"
   ]
  },
  {
   "cell_type": "code",
   "execution_count": 15,
   "metadata": {},
   "outputs": [
    {
     "name": "stdout",
     "output_type": "stream",
     "text": [
      "test_mae bagging_pure_lasso_trim0 1.6874327355705208\n",
      "test_mae bagging_target_transform_pure_lasso_trim0 1.517662046070636\n",
      "\n",
      "test_r2 bagging_pure_lasso_trim0 0.5292041074944727\n",
      "test_r2 bagging_target_transform_pure_lasso_trim0 0.5667858244031901\n",
      "\n",
      "train_mae bagging_pure_lasso_trim0 1.4179953289950564\n",
      "train_mae bagging_target_transform_pure_lasso_trim0 1.2857789977412775\n",
      "\n",
      "train_r2 bagging_pure_lasso_trim0 0.6680394026730064\n",
      "train_r2 bagging_target_transform_pure_lasso_trim0 0.6759020424580499\n",
      "\n"
     ]
    }
   ],
   "source": [
    "for metric in [\"test_mae\", \"test_r2\", \"train_mae\", \"train_r2\"]:\n",
    "    for key, res in results.items():\n",
    "        mean_metric = [cvr[metric] for cvr in res[0].values()]\n",
    "        print(metric, key, np.mean(mean_metric))\n",
    "    \n",
    "    print()"
   ]
  },
  {
   "cell_type": "code",
   "execution_count": 16,
   "metadata": {},
   "outputs": [],
   "source": [
    "with open(\"hbn_regression_pcr_lasso.pkl\", \"wb\") as fp:\n",
    "    pickle.dump(results, fp)"
   ]
  },
  {
   "cell_type": "code",
   "execution_count": null,
   "metadata": {},
   "outputs": [],
   "source": []
  }
 ],
 "metadata": {
  "kernelspec": {
   "display_name": "Python 3",
   "language": "python",
   "name": "python3"
  },
  "language_info": {
   "codemirror_mode": {
    "name": "ipython",
    "version": 3
   },
   "file_extension": ".py",
   "mimetype": "text/x-python",
   "name": "python",
   "nbconvert_exporter": "python",
   "pygments_lexer": "ipython3",
   "version": "3.7.7"
  }
 },
 "nbformat": 4,
 "nbformat_minor": 4
}
